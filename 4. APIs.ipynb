{
 "cells": [
  {
   "cell_type": "code",
   "execution_count": null,
   "metadata": {},
   "outputs": [],
   "source": [
    "import warnings\n",
    "warnings.filterwarnings('ignore')"
   ]
  },
  {
   "cell_type": "markdown",
   "metadata": {},
   "source": [
    "## Exercise 4 \n",
    "### APIs "
   ]
  },
  {
   "cell_type": "markdown",
   "metadata": {},
   "source": [
    "### Introduction\n",
    "\n",
    "An API (Application Programming interface) is a way for two different applications to communicate. Whilst the term applies to any two programs we are using it to refer to the API of a web service that provides data.\n",
    "\n",
    "To retrieve data from an API, a request to a remote web server is made.\n",
    "\n",
    "For example, if you want to build an application which plots stock prices, you would use the API of something like google finance to request the current stock prices.\n",
    "\n",
    "APIs are useful where:\n",
    "* Data is changing quickly, e.g. stock prices\n",
    "* The whole dataset is not required, e.g. the tweets of one user\n",
    "* Repeated computation is involved, e.g. Spotify API that tells you the genre of a piece of music\n",
    "\n",
    "#### REST\n",
    "\n",
    "Most API's you come across will be RESTful, i.e. they provide a REST (REpresentational State Transfer) interface.\n",
    "\n",
    "REST uses standard HTTP commands which means that getting data from an API is similar to accessing a webpage. \n",
    "\n",
    "For example, When you type `www.duckduckgo.com` in your browser, your browser is asking the `www.duckduckgo.com` server for a webpage by making a `GET` HTTP (Hypertext Transfer Protocol) request. Making a `GET` request to a RESTful API instead retrieves data (rather than a webpage).\n",
    "\n",
    "Similarly, while your browser uses `POST` to submit the contents of a form, REST APIs use `POST` to update data.\n",
    "\n",
    "REST APIs also uses other HTTP commmands such as `PUT` - for creating data - and `DELETE` - for removing data.\n",
    "\n",
    "HTTP is a text-based protocol (the response is always text) and could return a response in any format - this is typically found in the API documentation - though data is more often than not returned in JSON format.\n",
    "\n",
    "As they are used to retrieve data `GET` requests are the most commonly used type of request, therefore we will restrict ourselves to `GET` in this tutorial.\n",
    "\n",
    "#### JSON\n",
    "\n",
    "JSON (JavaScript Object Notation) is a format for sending data, that is meant to be human readable and easy to parse (It was derived from JavaScript but is language-independent).\n",
    "\n",
    "It uses attribute-value pairs (e.g. python dictionaries `{\"name\": \"Pizza\", \"foodRanking\": 1}`) and array data-types (e.g. python lists `[1, 2, 3]`)\n",
    "\n",
    "Example JSON representation :\n",
    "```\n",
    "{\n",
    "  \"firstName\": \"Donald\",\n",
    "  \"lastName\": \"Trump\",\n",
    "  \"age\": 73,\n",
    "  \"isAlive\": true,\n",
    "  \"color\": \"orange\",\n",
    "  \"addresses\": [\n",
    "      {\n",
    "          \"streetAddress\": \"1600 Pennsylvania Avenue NW\",\n",
    "          \"city\": \"Washington, D.C.\",\n",
    "          \"state\": \"null\",\n",
    "          \"postalCode\": \"20500\",\n",
    "          \"country\": \"US\"\n",
    "      },\n",
    "      {\n",
    "          \"streetAddress\": \"721 Fifth Avenue\",\n",
    "          \"city\": \"NYC\",\n",
    "          \"state\": \"NY\",\n",
    "          \"postalCode\": \"10022\",\n",
    "          \"country\": \"US\"\n",
    "      }\n",
    "  ],\n",
    "}\n",
    "```\n",
    "\n",
    "\n",
    "#### Status codes\n",
    "\n",
    "So we've sent off some mystery `GET` request but how do we know the request was successful?\n",
    "\n",
    "Servers issue numeric [status codes](https://developer.mozilla.org/en-US/docs/Web/HTTP/Status) in response to HTTP requests that indicate whether a request has been successfully completed.\n",
    "\n",
    "Some common ones relating to `GET` requests are:\n",
    "* `200` - Success\n",
    "* `300` - The API is redirecting to a different endpoint\n",
    "* `400` - Bad request\n",
    "* `401` - Not authenticated\n",
    "* `403` - Forbidden\n",
    "* `404` - Not found\n",
    "* `429` - Too many requests"
   ]
  },
  {
   "cell_type": "markdown",
   "metadata": {},
   "source": [
    "______________"
   ]
  },
  {
   "cell_type": "markdown",
   "metadata": {},
   "source": [
    "## Part 1:\n",
    "\n",
    "### Retrieve Post Codes\n",
    "\n",
    "Simple example to discuss how API's work\n"
   ]
  },
  {
   "cell_type": "markdown",
   "metadata": {},
   "source": [
    "### Part 1: Working with a simple API \n"
   ]
  },
  {
   "cell_type": "markdown",
   "metadata": {},
   "source": [
    "#### 1 - Find the API documenation\n",
    "\n",
    " - https://postcodeapi.com.au/"
   ]
  },
  {
   "cell_type": "markdown",
   "metadata": {},
   "source": [
    "```bash\n",
    "curl http://v0.postcodeapi.com.au/suburbs/3066.json \n",
    "-H 'Accept: application/json; indent=4'\n",
    "```"
   ]
  },
  {
   "cell_type": "markdown",
   "metadata": {},
   "source": [
    "#### 2 - Convert curl to python\n",
    "\n",
    "https://curl.trillworks.com/"
   ]
  },
  {
   "cell_type": "code",
   "execution_count": null,
   "metadata": {},
   "outputs": [],
   "source": [
    "import requests\n",
    "\n",
    "url = \"http://v0.postcodeapi.com.au/suburbs/2010.json\"\n",
    "headers = {\n",
    "    'Accept': 'application/json',\n",
    "}\n",
    "\n",
    "response = requests.get(url, headers=headers)\n",
    "response.status_code"
   ]
  },
  {
   "cell_type": "code",
   "execution_count": null,
   "metadata": {},
   "outputs": [],
   "source": [
    "response.json()"
   ]
  },
  {
   "cell_type": "markdown",
   "metadata": {},
   "source": [
    "______________"
   ]
  },
  {
   "cell_type": "markdown",
   "metadata": {},
   "source": [
    "## Part 2:\n",
    "\n",
    "### Revisit Google Trends\n"
   ]
  },
  {
   "cell_type": "code",
   "execution_count": null,
   "metadata": {},
   "outputs": [],
   "source": [
    "import pandas as pd\n",
    "# 1) make a list of all the markets\n",
    "markets = [\"nsw\", \"vic\", \"qld\",\"wa\"] \n",
    "\n",
    "# 2) make an empty list for the dataframes\n",
    "dfs = []\n",
    "\n",
    "# 3) loop through all the markets and append its dataframe to the list\n",
    "for market in markets:\n",
    "    try:\n",
    "        csv_path = f\"data/1_trends/officeworks/5-21_{market}.csv\"\n",
    "        dfs.append(pd.read_csv(csv_path, header=1, index_col=\"Day\"))\n",
    "    except:\n",
    "        pass\n",
    "# 4) combine the list of dataframes\n",
    "df_combined = pd.concat(dfs, axis=1)\n",
    "\n",
    "\n",
    "df_combined.plot(figsize=(12,4))"
   ]
  },
  {
   "cell_type": "markdown",
   "metadata": {},
   "source": [
    "### 1) API URI"
   ]
  },
  {
   "cell_type": "markdown",
   "metadata": {},
   "source": [
    "#### 1 - Retrieve the url and headers from the Browser\n"
   ]
  },
  {
   "cell_type": "code",
   "execution_count": null,
   "metadata": {},
   "outputs": [],
   "source": [
    "r = requests.get(url=\"https://trends.google.com/trends/api/widgetdata/multiline?hl=en-US&tz=-600&req=%7B%22time%22:%222020-07-12+2021-07-12%22,%22resolution%22:%22WEEK%22,%22locale%22:%22en-US%22,%22comparisonItem%22:%5B%7B%22geo%22:%7B%22country%22:%22AU%22%7D,%22complexKeywordsRestriction%22:%7B%22keyword%22:%5B%7B%22type%22:%22ENTITY%22,%22value%22:%22%2Fm%2F08h9qn%22%7D%5D%7D%7D%5D,%22requestOptions%22:%7B%22property%22:%22%22,%22backend%22:%22IZG%22,%22category%22:0%7D%7D&token=APP6_UEAAAAAYO0QQfxLR-8OFPSfNFfruCCHFpFzQ4rV&tz=-600\",\n",
    "                headers={'Content-type':'application/json; charset=UTF-8'}\n",
    ")\n",
    "r.status_code"
   ]
  },
  {
   "cell_type": "markdown",
   "metadata": {},
   "source": [
    "#### 2 - Parse the data\n"
   ]
  },
  {
   "cell_type": "code",
   "execution_count": null,
   "metadata": {},
   "outputs": [],
   "source": [
    "import json\n",
    "pd.DataFrame(json.loads(r.content[5:])['default']['timelineData']).head()"
   ]
  },
  {
   "cell_type": "markdown",
   "metadata": {},
   "source": [
    "### 2) API Wrapper\n",
    "\n",
    "- Often application API's are difficult to work with, being optimised for web browsers\n",
    "- Python has many wrapper libraries to support working directly with the data"
   ]
  },
  {
   "cell_type": "markdown",
   "metadata": {},
   "source": [
    "#### 1 - Install the pytrends library"
   ]
  },
  {
   "cell_type": "code",
   "execution_count": null,
   "metadata": {},
   "outputs": [],
   "source": [
    "pip install pytrends"
   ]
  },
  {
   "cell_type": "markdown",
   "metadata": {},
   "source": [
    "#### 2 - Follow the instructions to construct a request"
   ]
  },
  {
   "cell_type": "code",
   "execution_count": null,
   "metadata": {},
   "outputs": [],
   "source": [
    "from pytrends.request import TrendReq\n",
    "pytrends = TrendReq(hl='en-AU', tz=600) # create a new pytrends object"
   ]
  },
  {
   "cell_type": "code",
   "execution_count": null,
   "metadata": {},
   "outputs": [],
   "source": [
    "kw_list = [\"Officeworks\"] # build a keyword list\n",
    "pytrends.build_payload(kw_list,timeframe=\"2021-05-01 2021-05-31\", geo=\"AU-VIC\") #build a payload\n",
    "df = pytrends.interest_over_time() # get the data\n",
    "df.head()"
   ]
  },
  {
   "cell_type": "markdown",
   "metadata": {},
   "source": [
    "#### 3 - Format the DataFrame to use original column names"
   ]
  },
  {
   "cell_type": "code",
   "execution_count": null,
   "metadata": {},
   "outputs": [],
   "source": [
    "df.index.name=\"Day\"\n",
    "df.rename(columns={\"Officeworks\":\"Officeworks: (Victoria)\"}, inplace=True)\n",
    "df.drop(\"isPartial\", axis=1, inplace=True)\n",
    "df.head()"
   ]
  },
  {
   "cell_type": "markdown",
   "metadata": {},
   "source": [
    "#### 4 - Exercise build the plots again using pytrends package"
   ]
  },
  {
   "cell_type": "code",
   "execution_count": null,
   "metadata": {},
   "outputs": [],
   "source": [
    "# First define constants\n",
    "\n",
    "client_list = [\"Officeworks\", \"Johnson & Johnson\", \"Lotterywest\"]\n",
    "market_dict = {\n",
    "    \"AU-NSW\": \"New South Wales\",\n",
    "    \"AU-VIC\": \"Victoria\",\n",
    "    \"AU-QLD\": \"Queensland\",\n",
    "}\n",
    "FIG_SIZE = (12, 4)"
   ]
  },
  {
   "cell_type": "code",
   "execution_count": null,
   "metadata": {},
   "outputs": [],
   "source": [
    "# Second define utility functions\n",
    "def format_df(df, keyword, market):\n",
    "    df.index.name=\"Day\"\n",
    "    market_name = market_dict[market]\n",
    "    new_col_name = f\"{keyword}: ({market_name})\"\n",
    "    df.rename(columns={keyword: new_col_name}, inplace=True)\n",
    "    df.drop(\"isPartial\", axis=1, inplace=True)\n",
    "    return df\n",
    "\n",
    "def get_trends_df(client, market, start_date, end_date):\n",
    "    kw_list = [client] \n",
    "    pytrends.build_payload(kw_list,timeframe=f\"{start_date} {end_date}\", geo=market)\n",
    "    df = pytrends.interest_over_time()\n",
    "    return format_df(df, client, market)\n",
    "    "
   ]
  },
  {
   "cell_type": "code",
   "execution_count": null,
   "metadata": {},
   "outputs": [],
   "source": [
    "# Third define final script\n",
    "def plot_trends(client_list, market_list, start_date, end_date):\n",
    "    for client in client_list:\n",
    "        dfs = []\n",
    "        for market in market_list:\n",
    "            print(f\"Collecting trends for {client} in {market}\")\n",
    "            dfs.append(get_trends_df(client, market, start_date, end_date))\n",
    "        pd.concat(dfs, axis=1).plot(figsize=FIG_SIZE)\n",
    "    \n",
    "\n",
    "    \n",
    "    "
   ]
  },
  {
   "cell_type": "code",
   "execution_count": null,
   "metadata": {},
   "outputs": [],
   "source": [
    "# Run script\n",
    "plot_trends(client_list, market_dict,\"2021-05-01\", \"2021-05-31\" )"
   ]
  },
  {
   "cell_type": "markdown",
   "metadata": {},
   "source": [
    "______________"
   ]
  },
  {
   "cell_type": "markdown",
   "metadata": {},
   "source": [
    "## Additional Resources"
   ]
  },
  {
   "cell_type": "markdown",
   "metadata": {},
   "source": [
    "### Real-world considerations for APIs\n",
    "\n",
    "Things do not always go so nicely, particularly when using API's at scale.\n",
    "\n",
    "We'll quickly cover some other common considerations when using API's, and outline how they can be solved.\n",
    "\n",
    "#### Retries\n",
    "\n",
    "Sometimes you can do everything perfectly, and send off a request but something on the web-server (or elsewhere) can go wrong and give a bad status code.\n",
    "We don't want to silently ignore these errors or let them crash our program by raising an exception.\n",
    "\n",
    "The first port of call is to retry the request again.\n",
    "\n",
    "---\n",
    "\n",
    "A hacky way to do this would be (**don't do this**):\n",
    "\n",
    "``` python\n",
    "import time\n",
    "import requests\n",
    "\n",
    "def get(url):\n",
    "    try:\n",
    "        r = requests.get(url)\n",
    "        r.raise_for_status()  # raise an error on a bad status\n",
    "    except:\n",
    "        time.sleep(1)  # sleep for a bit in case that helps\n",
    "        return get(url)  # try again\n",
    "```\n",
    "\n",
    "---\n",
    "\n",
    "A better and easier way to do this is to use the [tenacity](https://github.com/jd/tenacity) library:\n",
    "\n",
    "``` python\n",
    "import requests\n",
    "from tenacity import (retry, stop_after_attempt, wait_fixed,\n",
    "                      retry_if_exception_type)\n",
    "\n",
    "@retry(stop=stop_after_attempt(3), wait=wait_fixed(0.1),\n",
    "      retry=retry_if_exception_type(requests.HTTPError))\n",
    "def get(url):\n",
    "    try:\n",
    "        r = requests.get(url)\n",
    "        r.raise_for_status()  # raise an error on a bad status\n",
    "        return r\n",
    "    except requests.HTTPError:\n",
    "        print(r.status_code, r.reason)\n",
    "        raise\n",
    "```\n",
    "\n",
    "It uses a python decorator (the `@` symbol) to wrap our function with another function `retry` that will retry if we raise an error.\n",
    "\n",
    "We can tell it how many times to stop trying after, how long to wait between each retry, what error to retry on etc.\n",
    "\n",
    "#### Authentication\n",
    "\n",
    "Not all API's are open for immediate use. For example, some require you pay for access (e.g. the google maps API) and some require you to register for access first.\n",
    "\n",
    "When you get access to a \"closed\" API, you will typically get an API key - a long string of letters and numbers - which is unique to you which you need to send along with any GET request you make to the API.\n",
    "This lets the API know who you are and decide how to deal with your request.\n",
    "\n",
    "Several different types of authentication exists (read the specific API docs) but the most common way is:\n",
    "``` python\n",
    "api_key = 'asodifhafglkkhj'\n",
    "r = requests.get(url, auth=(api_key, ''))\n",
    "```\n",
    "\n",
    "#### Rate limits\n",
    "\n",
    "API's can be costly to host and typically limit the number of requests that can be made (either by an IP or API key).\n",
    "If you exceed this limit you'll get a `429` status code for any extra requests you make (and may be blocked if you continue making them).\n",
    "\n",
    "It is important to therefore respect any rate limits given in an API's documentation (annoyingly some are very vague).\n",
    "The simplest way to do this is to limit how often the number of times our function that makes the request can be called within some time limit using the [ratelim](https://pypi.org/project/ratelim/) library - again using decorators."
   ]
  },
  {
   "cell_type": "markdown",
   "metadata": {},
   "source": [
    "### Resources"
   ]
  },
  {
   "cell_type": "code",
   "execution_count": null,
   "metadata": {},
   "outputs": [],
   "source": [
    "## REDDIT - https://www.reddit.com/dev/api/#GET_subreddits_search\n",
    "# Let's find some subreddits to learn python with!\n",
    "# https://www.reddit.com/dev/api/#GET_subreddits_search\n",
    "\n",
    "url = 'https://www.reddit.com/subreddits/search.json?q=\"learn python\"&limit=5'\n",
    "r = requests.get(url, headers={'User-agent': 'your bot 0.1'})\n",
    "r.raise_for_status()\n",
    "\n",
    "[result['data']['display_name_prefixed']\n",
    " for result in r.json()['data']['children']]"
   ]
  },
  {
   "cell_type": "markdown",
   "metadata": {},
   "source": [
    "### List of API's\n",
    "\n",
    "Massive list [**here**](https://github.com/public-apis/public-apis)\n",
    "\n",
    "\n",
    "### API wrapper libraries\n",
    "\n",
    "Massive list [**here**](https://github.com/realpython/list-of-python-api-wrappers)."
   ]
  },
  {
   "cell_type": "code",
   "execution_count": null,
   "metadata": {},
   "outputs": [],
   "source": []
  }
 ],
 "metadata": {
  "interpreter": {
   "hash": "50cde3325d3c59d1332793460600b59a5cface857faaad336dd65cc5a9f9dbee"
  },
  "kernelspec": {
   "display_name": "Python 3",
   "language": "python",
   "name": "python3"
  },
  "language_info": {
   "codemirror_mode": {
    "name": "ipython",
    "version": 3
   },
   "file_extension": ".py",
   "mimetype": "text/x-python",
   "name": "python",
   "nbconvert_exporter": "python",
   "pygments_lexer": "ipython3",
   "version": "3.7.10"
  }
 },
 "nbformat": 4,
 "nbformat_minor": 2
}
