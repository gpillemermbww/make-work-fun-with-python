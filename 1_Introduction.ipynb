{
 "cells": [
  {
   "cell_type": "markdown",
   "metadata": {},
   "source": [
    "### Example 1:\n",
    "\n",
    "### Google Trends presentation\n",
    "\n",
    "Imagine you are asked to put together a presentation of how a client's Google trends work across markets:\n"
   ]
  },
  {
   "cell_type": "code",
   "execution_count": 1,
   "metadata": {},
   "outputs": [],
   "source": [
    "import pandas as pd  \n",
    "import pytrends\n",
    "from pytrends.request import TrendReq\n",
    "pytrend = TrendReq()"
   ]
  },
  {
   "cell_type": "code",
   "execution_count": 2,
   "metadata": {},
   "outputs": [
    {
     "output_type": "execute_result",
     "data": {
      "text/plain": [
       "                   Coke\n",
       "geoName                \n",
       "Afghanistan           0\n",
       "Albania               0\n",
       "Algeria               0\n",
       "American Samoa        0\n",
       "Andorra               0\n",
       "Angola                0\n",
       "Anguilla              0\n",
       "Antarctica            0\n",
       "Antigua & Barbuda     0\n",
       "Argentina             2"
      ],
      "text/html": "<div>\n<style scoped>\n    .dataframe tbody tr th:only-of-type {\n        vertical-align: middle;\n    }\n\n    .dataframe tbody tr th {\n        vertical-align: top;\n    }\n\n    .dataframe thead th {\n        text-align: right;\n    }\n</style>\n<table border=\"1\" class=\"dataframe\">\n  <thead>\n    <tr style=\"text-align: right;\">\n      <th></th>\n      <th>Coke</th>\n    </tr>\n    <tr>\n      <th>geoName</th>\n      <th></th>\n    </tr>\n  </thead>\n  <tbody>\n    <tr>\n      <th>Afghanistan</th>\n      <td>0</td>\n    </tr>\n    <tr>\n      <th>Albania</th>\n      <td>0</td>\n    </tr>\n    <tr>\n      <th>Algeria</th>\n      <td>0</td>\n    </tr>\n    <tr>\n      <th>American Samoa</th>\n      <td>0</td>\n    </tr>\n    <tr>\n      <th>Andorra</th>\n      <td>0</td>\n    </tr>\n    <tr>\n      <th>Angola</th>\n      <td>0</td>\n    </tr>\n    <tr>\n      <th>Anguilla</th>\n      <td>0</td>\n    </tr>\n    <tr>\n      <th>Antarctica</th>\n      <td>0</td>\n    </tr>\n    <tr>\n      <th>Antigua &amp; Barbuda</th>\n      <td>0</td>\n    </tr>\n    <tr>\n      <th>Argentina</th>\n      <td>2</td>\n    </tr>\n  </tbody>\n</table>\n</div>"
     },
     "metadata": {},
     "execution_count": 2
    }
   ],
   "source": [
    "pytrend.build_payload(kw_list=[\"Coke\"])\n",
    "\n",
    "# Interest by Region\n",
    "df = pytrend.interest_by_region()\n",
    "df.head(10)"
   ]
  },
  {
   "cell_type": "code",
   "execution_count": null,
   "metadata": {},
   "outputs": [],
   "source": []
  }
 ],
 "metadata": {
  "kernelspec": {
   "name": "python376jvsc74a57bd0dca0ade3e726a953b501b15e8e990130d2b7799f14cfd9f4271676035ebe5511",
   "display_name": "Python 3.7.6 64-bit ('base': conda)"
  },
  "language_info": {
   "codemirror_mode": {
    "name": "ipython",
    "version": 3
   },
   "file_extension": ".py",
   "mimetype": "text/x-python",
   "name": "python",
   "nbconvert_exporter": "python",
   "pygments_lexer": "ipython3",
   "version": "3.7.6"
  }
 },
 "nbformat": 4,
 "nbformat_minor": 4
}