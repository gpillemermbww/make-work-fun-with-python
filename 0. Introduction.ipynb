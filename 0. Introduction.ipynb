{
 "cells": [
  {
   "cell_type": "markdown",
   "id": "bed743d0",
   "metadata": {},
   "source": [
    "# 1. Introduction\n",
    "\n",
    "Thank you for taking this course. Its purpose is to introduce you to the power of Python and give you confidence to continue. \n",
    "\n",
    "This course will be goal oriented - We will try to stick to practical uses of Python.\n",
    "\n",
    "## 1.1. Why Python\n",
    "For many people, the Python programming lanugage has strong appeal. Since it first appeared in 1991, Python has become one of the most important programming languages today. \n",
    "Mostly this is because of the rise of the demand of Data Science.\n",
    "\n",
    "But fundamentally Python has the following things going for it:\n",
    "\n",
    "- Python is \"second best at everything\"\n",
    "- Python is easy to start, but mature enough to grow with you.\n",
    "- Python has a community that is the envy of most open source languages."
   ]
  },
  {
   "cell_type": "code",
   "execution_count": 21,
   "id": "29c17112",
   "metadata": {},
   "outputs": [
    {
     "data": {
      "text/html": [
       "<img src=\"https://miro.medium.com/max/2760/0*GV5Xm8Ve-tb_qAAs\"/>"
      ],
      "text/plain": [
       "<IPython.core.display.Image object>"
      ]
     },
     "execution_count": 21,
     "metadata": {},
     "output_type": "execute_result"
    }
   ],
   "source": [
    "from IPython.display import Image\n",
    "from IPython.core.display import HTML \n",
    "Image(url= \"https://miro.medium.com/max/2760/0*GV5Xm8Ve-tb_qAAs\")"
   ]
  },
  {
   "cell_type": "markdown",
   "id": "3a8a6afd",
   "metadata": {},
   "source": [
    "## 1.2. Course structure\n",
    "This is a taught course but via Jupyter Notebooks. During teaching particular examples will be given directly out of the notebooks. Including some code examples, and some exercises where we will try to do things ourself\n",
    "\n",
    "These Notebooks will not save - you are required to download your work in progress at the end of every session\n",
    "\n",
    "\n",
    "# 2. Environment\n",
    "For the duration of this session we will be using Jupyter Notebooks. They are simply a web-based interface for Python which can also have instructions inbetween code blocks.\n",
    "\n",
    "To try it out let's write our first line of Python code!\n",
    "Simply select the code snippet below and click the `Run` button in the toolbar near the top of the window."
   ]
  },
  {
   "cell_type": "code",
   "execution_count": null,
   "id": "53fb9506",
   "metadata": {},
   "outputs": [],
   "source": [
    "print(\"Hello world\")"
   ]
  },
  {
   "cell_type": "markdown",
   "id": "352c7c73",
   "metadata": {},
   "source": [
    "To save yourself a couple of clicks you can also press `Shift + Return` after highlighting a code cell and it will execute. Try it out."
   ]
  },
  {
   "cell_type": "code",
   "execution_count": null,
   "id": "c0c50403",
   "metadata": {},
   "outputs": [],
   "source": [
    "import this"
   ]
  },
  {
   "cell_type": "markdown",
   "id": "7a367395",
   "metadata": {},
   "source": [
    "All cells in Jupyter are interactive and you can change them whenever you want. For example you can go back to the print statement above and change it to print whatever you want.\n",
    "Actually this text block is also interactive and you can change it. Try it out by double clicking on it!\n",
    "\n",
    "## Heading\n",
    "###  Subheading\n",
    "#### sub-subheading\n",
    "`code snippet`\n",
    "\n",
    "[This is a link](https://www.ed.ac.uk/information-services/help-consultancy/is-skills)\n",
    "\n",
    "We would encourage you to write your own notes throughout the course by adding new blocks. If you want to learn more - [Markdown Cheatsheet](https://github.com/adam-p/markdown-here/wiki/Markdown-Cheatsheet)\n",
    "\n",
    "You can add a new cell by clicking the `+` on the toolbar. From the dropdown menu next to it, you can choose the type of block. The most useful ones are `Python` and `Markdown`. This cell is written in Markdown, it is essentailly a simplified markup lanugage. Once you are finished editing a text cell, press `Shift + Return` to return it to a readable state.\n",
    "\n",
    "These notebooks will stay bound to your Noteable account and you can work on them outside of the course as well.\n",
    "\n",
    "### Useful operations\n",
    "- **Clearing all output** - `Kernel/Restart & Clear output`\n",
    "- **Deleting a block** - `Edit/Delete Cell`\n",
    "- **Saving a notebook localy** - `File/Download As/Notebook(.ipynb)`\n",
    "- **Closing** - not recommended to close a notebook by closing the window. You should close it from the toolbar `File/Close and Halt`.\n",
    "\n",
    "# 3. Tips\n",
    "\n",
    "Jupyther notebooks go to great lenghts to make Python look less intimidating and they provide extra tools to get you up and coding faster.\n",
    "## 3.1 Tab completion\n",
    "One of the major benefits of Jupyter - when you start writing something you can press `Tab` before finishing it and the environemnt will type in the rest of it or propose various completions in a drop-down menu."
   ]
  },
  {
   "cell_type": "code",
   "execution_count": null,
   "id": "f09008c2",
   "metadata": {},
   "outputs": [],
   "source": [
    "firstString = \"Hello world\""
   ]
  },
  {
   "cell_type": "markdown",
   "id": "e06b7cf7",
   "metadata": {},
   "source": [
    "Run the block above, start typing `firstString` in the block below and press `Tab` at some point before you finish writing it. It should complete it automatically."
   ]
  },
  {
   "cell_type": "code",
   "execution_count": null,
   "id": "2dea31b2",
   "metadata": {},
   "outputs": [],
   "source": []
  },
  {
   "cell_type": "markdown",
   "id": "2d8ac124",
   "metadata": {},
   "source": [
    "This can also be applied to methods of objects (will be explored later). Using the variable decalared above, in the code block below you can type in `firstString.`, press `Tab` and Jupyter will present you with various methods applicable to a string."
   ]
  },
  {
   "cell_type": "markdown",
   "id": "0dcec1af",
   "metadata": {},
   "source": [
    "## 3.2 Introspection\n",
    "Jupyter can provide you with information about every object in its namespace. (Don't worry if you don't know what an object is exactly, everything in Python is an object). This can be done by typing in the name of any object followed by a question mark. Eg. `print?`. Let's try this on the previous declared variable."
   ]
  },
  {
   "cell_type": "code",
   "execution_count": null,
   "id": "80d9fe94",
   "metadata": {},
   "outputs": [],
   "source": [
    "firstString?"
   ]
  },
  {
   "cell_type": "code",
   "execution_count": null,
   "id": "fc8cda17",
   "metadata": {},
   "outputs": [],
   "source": [
    "print?"
   ]
  },
  {
   "cell_type": "markdown",
   "id": "adbfb716",
   "metadata": {},
   "source": [
    "## 3.3 Saving Jupyter Notebooks\n",
    "As we are web hosting these environments - they won't be persisted\n",
    "To save them to your computer use  `File/Download as/Notebook`"
   ]
  },
  {
   "cell_type": "code",
   "execution_count": null,
   "id": "d7f035b2",
   "metadata": {},
   "outputs": [],
   "source": []
  }
 ],
 "metadata": {
  "kernelspec": {
   "display_name": "Python 3",
   "language": "python",
   "name": "python3"
  },
  "language_info": {
   "codemirror_mode": {
    "name": "ipython",
    "version": 3
   },
   "file_extension": ".py",
   "mimetype": "text/x-python",
   "name": "python",
   "nbconvert_exporter": "python",
   "pygments_lexer": "ipython3",
   "version": "3.7.10"
  }
 },
 "nbformat": 4,
 "nbformat_minor": 5
}
