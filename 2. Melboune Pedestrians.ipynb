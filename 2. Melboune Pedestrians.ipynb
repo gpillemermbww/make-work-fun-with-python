{
 "cells": [
  {
   "cell_type": "code",
   "execution_count": null,
   "metadata": {},
   "outputs": [],
   "source": [
    "import warnings\n",
    "warnings.filterwarnings('ignore')"
   ]
  },
  {
   "cell_type": "markdown",
   "metadata": {},
   "source": [
    "## Exercise 2:\n",
    "\n",
    "### Melbourne Pedestrians\n",
    "\n",
    "Imagine you are asked to put together an analysis of Pedestrian trends for an OOH campaign\n",
    "\n",
    "- This exercise will concentrate on showing Pandas key features\n",
    "\n",
    "- This example uses data from the City of Melbourne pedestrian counters, found at http://www.pedestrian.melbourne.vic.gov.au/."
   ]
  },
  {
   "cell_type": "markdown",
   "metadata": {},
   "source": [
    "### Part 1: What are DataFrames\n"
   ]
  },
  {
   "cell_type": "code",
   "execution_count": null,
   "metadata": {},
   "outputs": [],
   "source": [
    "# Import pandas\n",
    "import pandas as pd\n",
    "\n",
    "# Create sample data\n",
    "index = ['2021-07-01', '2021-07-02','2021-07-03', '2021-07-04']\n",
    "data ={\"day\":[1, 2, 3, 4],\"month\":[7,7,7,7],\"year\":[2021, 2021, 2021, 2021]}\n",
    "\n",
    "# Generate sample DataFrame\n",
    "df = pd.DataFrame(index=index, data=data)\n",
    "df"
   ]
  },
  {
   "cell_type": "markdown",
   "metadata": {},
   "source": [
    "#### DataFrames as \"collection\" of columns\n"
   ]
  },
  {
   "cell_type": "code",
   "execution_count": null,
   "metadata": {},
   "outputs": [],
   "source": [
    "# select 'one' column\n",
    "df[[\"day\"]]"
   ]
  },
  {
   "cell_type": "code",
   "execution_count": null,
   "metadata": {},
   "outputs": [],
   "source": [
    "# select 'many' column\n",
    "df[[\"day\", \"month\"]]"
   ]
  },
  {
   "cell_type": "code",
   "execution_count": null,
   "metadata": {},
   "outputs": [],
   "source": [
    "# average or sum over columns\n",
    "df.mean()"
   ]
  },
  {
   "cell_type": "code",
   "execution_count": null,
   "metadata": {},
   "outputs": [],
   "source": [
    "# get unique values in columns\n",
    "pd.unique(df[\"month\"])"
   ]
  },
  {
   "cell_type": "code",
   "execution_count": null,
   "metadata": {},
   "outputs": [],
   "source": [
    "# concatenate or operate on colums\n",
    "\n",
    "df[\"date_str\"] = df.year.astype(str) + '-' + df.month.astype(str) + '-' + df.day.astype(str)\n",
    "df"
   ]
  },
  {
   "cell_type": "code",
   "execution_count": null,
   "metadata": {},
   "outputs": [],
   "source": [
    "# apply function to column\n",
    "\n",
    "def date_string_to_datetime(column):\n",
    "    return pd.to_datetime(column)\n",
    "\n",
    "\n",
    "df[\"date_datetime\"] = df[\"date_str\"].apply(date_string_to_datetime)\n",
    "df"
   ]
  },
  {
   "cell_type": "code",
   "execution_count": null,
   "metadata": {},
   "outputs": [],
   "source": [
    "df.date_datetime.dt.month"
   ]
  },
  {
   "cell_type": "markdown",
   "metadata": {},
   "source": [
    "\n",
    "\n",
    "The below looks at:\n",
    "* Loading the daily counts from a file\n",
    "* Transforming the data to time series layout\n",
    "* Merging data from different files together\n",
    "* Grouping/aggregating data"
   ]
  },
  {
   "cell_type": "markdown",
   "metadata": {},
   "source": [
    "### Part 2: Pedestrian data\n",
    "\n",
    "By inspecting the CSV files in Excel we can identify the rows containing the daily pedestrian counts and load only that section."
   ]
  },
  {
   "cell_type": "code",
   "execution_count": null,
   "metadata": {},
   "outputs": [],
   "source": [
    "import pandas as pd\n",
    "\n",
    "raw_df = pd.read_csv(\"data/2_pedestrians/COM_24PM_21-06-2021.csv\", skiprows=8, nrows=65)\n",
    "raw_df.head()"
   ]
  },
  {
   "cell_type": "markdown",
   "metadata": {},
   "source": [
    "#### Transpose\n",
    "\n",
    "Getting things into the right format for this data is pretty straightforward.\n",
    "We first need to set the `Sensor` column as the index."
   ]
  },
  {
   "cell_type": "code",
   "execution_count": null,
   "metadata": {},
   "outputs": [],
   "source": [
    "df = raw_df.set_index(\"Sensor\")\n",
    "df.head()"
   ]
  },
  {
   "cell_type": "markdown",
   "metadata": {},
   "source": [
    "`df.transpose()` then transposes the data, swapping rows with columns."
   ]
  },
  {
   "cell_type": "code",
   "execution_count": null,
   "metadata": {},
   "outputs": [],
   "source": [
    "transposed = df.transpose()\n",
    "transposed.head()"
   ]
  },
  {
   "cell_type": "markdown",
   "metadata": {},
   "source": [
    "This is not bad, we have rows for observations (hourly) and columns for measurements (different locations).\n",
    "\n",
    "We can use this to plot different measurements over time.\n",
    "Pandas will plot one line series for each column measurement and align them over time."
   ]
  },
  {
   "cell_type": "code",
   "execution_count": null,
   "metadata": {},
   "outputs": [],
   "source": [
    "transposed[[\"Monash Rd-Swanston St (West)\",\"Bourke St - Spencer St (North)\", \"RMIT Building 14\"]]\\\n",
    "    .plot.line(figsize=(15, 6))\n"
   ]
  },
  {
   "cell_type": "markdown",
   "metadata": {},
   "source": [
    "This is ok but it's not being treated as a time series yet.\n",
    "We need to replace the index with a time-based instead of text-based one.\n",
    "`pd.date_range` does what we need, giving hourly labels from midnight to 11pm."
   ]
  },
  {
   "cell_type": "code",
   "execution_count": null,
   "metadata": {},
   "outputs": [],
   "source": [
    "pd.date_range(start=\"2021-06-21\", periods=24, freq='H')"
   ]
  },
  {
   "cell_type": "markdown",
   "metadata": {},
   "source": [
    "This step replaces the string-labelled index with the time-based one.\n",
    "Note that this relies on the index already being in the correct order, and the new index must be the same length as the old one."
   ]
  },
  {
   "cell_type": "code",
   "execution_count": null,
   "metadata": {
    "scrolled": false
   },
   "outputs": [],
   "source": [
    "timeseries_df = (\n",
    "    transposed\n",
    "    .assign(time_of_day=pd.date_range(start=\"2021-06-21\", periods=24, freq='H'))\n",
    "    .set_index(\"time_of_day\")\n",
    ")\n",
    "timeseries_df.head()"
   ]
  },
  {
   "cell_type": "code",
   "execution_count": null,
   "metadata": {},
   "outputs": [],
   "source": [
    "(\n",
    "    timeseries_df[[\n",
    "        \"Monash Rd-Swanston St (West)\",\n",
    "        \"Bourke St - Spencer St (North)\",\n",
    "        \"RMIT Building 14\",\n",
    "    ]]\n",
    "    .plot.line(figsize=(15, 6))\n",
    ")"
   ]
  },
  {
   "cell_type": "markdown",
   "metadata": {},
   "source": [
    "## Selecting Data\n",
    "\n",
    "With data in this form we can select rows of the data using time-based ranges.\n",
    "\n",
    "e.g. This selects a 4 hour period in the middle of the day ..."
   ]
  },
  {
   "cell_type": "code",
   "execution_count": null,
   "metadata": {},
   "outputs": [],
   "source": [
    "# Select a 4 hour period\n",
    "lunchtime_data = timeseries_df.loc[pd.Timestamp(\"2021-06-21 11:00:00\"):pd.Timestamp(\"2021-06-21 14:00:00\")]\n",
    "lunchtime_data"
   ]
  },
  {
   "cell_type": "markdown",
   "metadata": {},
   "source": [
    "... then extract a sum total over this period for each sensor and plot ..."
   ]
  },
  {
   "cell_type": "code",
   "execution_count": null,
   "metadata": {},
   "outputs": [],
   "source": [
    "# For each column, sum over all the rows in the selected subset of data.\n",
    "lunchtime_totals = lunchtime_data.sum(axis='index')\n",
    "\n",
    "# Sort by total count.\n",
    "lunchtime_totals = lunchtime_totals.sort_values()\n",
    "\n",
    "# Plot the results as a bar chart.\n",
    "lunchtime_totals.sort_values().plot.barh(figsize=(8, 15));"
   ]
  },
  {
   "cell_type": "markdown",
   "metadata": {},
   "source": [
    "#### Concatenating Data\n",
    "\n",
    "The pedestrian dataset is spread across different files for each day.\n",
    "In order to collect it into one dataframe, we can use two steps.\n",
    "\n",
    "1. Write a python function which reads data for one day and performs our read, transpose, and labelling steps.\n",
    "2. Concatenate the different data sources with `pd.concat`.\n",
    "\n",
    "A Python [function](https://www.w3schools.com/python/python_functions.asp) encapsulates a set of operations so they can be repeated for different inputs.\n",
    "In this case, the function reads the data file for a given day, transposes the data, adds a timestamp index, and returns the processed dataframe."
   ]
  },
  {
   "cell_type": "code",
   "execution_count": null,
   "metadata": {},
   "outputs": [],
   "source": [
    "import os\n",
    "def read_for_date(date):\n",
    "    \"\"\" This function  \"\"\"\n",
    "    raw_df = pd.read_csv(os.path.join(\"data\",\"2_pedestrians\",\"COM_24PM_\"+ date + \".csv\"), skiprows=8, nrows=65)\n",
    "    transposed = raw_df.set_index(\"Sensor\").transpose()\n",
    "    timestamped_df = (\n",
    "        transposed\n",
    "        .assign(Timestamp=pd.date_range(start=date, periods=24, freq='H'))\n",
    "        .set_index(\"Timestamp\")\n",
    "    )\n",
    "    return timestamped_df\n",
    "\n",
    "# Concatenate daily data for a week.\n",
    "df = pd.concat([\n",
    "    read_for_date(\"20-06-2021\"),\n",
    "    read_for_date(\"21-06-2021\"),\n",
    "    read_for_date(\"22-06-2021\"),\n",
    "    read_for_date(\"23-06-2021\"),\n",
    "    read_for_date(\"24-06-2021\"),\n",
    "    read_for_date(\"25-06-2021\"),\n",
    "    read_for_date(\"26-06-2021\"),\n",
    "])"
   ]
  },
  {
   "cell_type": "markdown",
   "metadata": {},
   "source": [
    "#### Loops\n",
    "\n",
    "It's useful to know how to write a *loop* or *list comprehension* in Python to simplify repetitive tasks.\n",
    "One simple use is the following, which selects all column names containing 'Bourke' from the columns of a dataframe."
   ]
  },
  {
   "cell_type": "code",
   "execution_count": null,
   "metadata": {},
   "outputs": [],
   "source": [
    "[column_name for column_name in df.columns if \"Bourke\" in column_name]"
   ]
  },
  {
   "cell_type": "markdown",
   "metadata": {},
   "source": [
    "This can be used to select this list of columns instead of writing the names out manually."
   ]
  },
  {
   "cell_type": "code",
   "execution_count": null,
   "metadata": {},
   "outputs": [],
   "source": [
    "bourke_st_sensors = df[[column_name for column_name in df.columns if \"Bourke\" in column_name]]\n",
    "bourke_st_sensors.plot.line(figsize=(15, 6));"
   ]
  },
  {
   "cell_type": "markdown",
   "metadata": {},
   "source": [
    "#### Time-based Aggregation and Pivoting\n",
    "\n",
    "We can use the timestamped index to add some labelling columns:\n",
    "* The date (without time)\n",
    "* The time of day (without date)\n",
    "* The day of the week"
   ]
  },
  {
   "cell_type": "code",
   "execution_count": null,
   "metadata": {},
   "outputs": [],
   "source": [
    "df = df.assign(\n",
    "    Date=lambda df: df.index.floor(\"D\"),\n",
    "    TimeOfDay=lambda df: df.index - df.Date,\n",
    "    DayOfWeek=lambda df: df.index.day_name().astype(\"category\"),\n",
    ")\n",
    "df.head()"
   ]
  },
  {
   "cell_type": "markdown",
   "metadata": {},
   "source": [
    "These labels can be used to aggregate and summarise data.\n",
    "`groupby` collects data according to the values of some selected columns and calculates summary statistics on each group.\n",
    "The result is a summary row for each group."
   ]
  },
  {
   "cell_type": "code",
   "execution_count": null,
   "metadata": {},
   "outputs": [],
   "source": [
    "aggregated = df.groupby([\"DayOfWeek\", \"TimeOfDay\"]).median()\n",
    "aggregated"
   ]
  },
  {
   "cell_type": "markdown",
   "metadata": {},
   "source": [
    "The `unstack` and `stack` functions move labels from the index to columns (and vice-versa).\n",
    "In this case `unstack` expands the day of the week to produce multiple column levels."
   ]
  },
  {
   "cell_type": "code",
   "execution_count": null,
   "metadata": {},
   "outputs": [],
   "source": [
    "pivoted = aggregated.unstack(0)\n",
    "pivoted.head()"
   ]
  },
  {
   "cell_type": "markdown",
   "metadata": {},
   "source": [
    "Selecting a column now just refers to the first level in the column heirarchy.\n",
    "As a result this selection picks one sensor and returns a column for each day, with rows representing the time of day."
   ]
  },
  {
   "cell_type": "code",
   "execution_count": null,
   "metadata": {},
   "outputs": [],
   "source": [
    "bourke_st = pivoted[\"Bourke St - Spencer St (North)\"]\n",
    "bourke_st.head()"
   ]
  },
  {
   "cell_type": "markdown",
   "metadata": {},
   "source": [
    "The result is median hourly counts, aggregated for each day of the week (over a full year) at the same location."
   ]
  },
  {
   "cell_type": "code",
   "execution_count": null,
   "metadata": {},
   "outputs": [],
   "source": [
    "bourke_st.plot.line(figsize=(15, 6));"
   ]
  },
  {
   "cell_type": "code",
   "execution_count": null,
   "metadata": {},
   "outputs": [],
   "source": []
  }
 ],
 "metadata": {
  "kernelspec": {
   "display_name": "Python 3",
   "language": "python",
   "name": "python3"
  },
  "language_info": {
   "codemirror_mode": {
    "name": "ipython",
    "version": 3
   },
   "file_extension": ".py",
   "mimetype": "text/x-python",
   "name": "python",
   "nbconvert_exporter": "python",
   "pygments_lexer": "ipython3",
   "version": "3.7.10"
  }
 },
 "nbformat": 4,
 "nbformat_minor": 4
}
