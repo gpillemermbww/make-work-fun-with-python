{
 "cells": [
  {
   "cell_type": "code",
   "execution_count": null,
   "metadata": {},
   "outputs": [],
   "source": [
    "import warnings\n",
    "warnings.filterwarnings('ignore')"
   ]
  },
  {
   "cell_type": "markdown",
   "metadata": {},
   "source": [
    "## Exercise 1:\n",
    "\n",
    "### Google Trends presentation\n",
    "\n",
    "Imagine you are asked to put together a presentation of how a client's Google trends work across markets.\n",
    "\n",
    "- How could do it in a way that reduced the manual work?\n",
    "\n",
    "- How can we leverage Python's features and 3rd party libraries to automate this work?\n",
    "\n",
    "- Does it make sense to automate it all the way?"
   ]
  },
  {
   "cell_type": "markdown",
   "metadata": {},
   "source": [
    "### Part 1: Working with CSV files\n"
   ]
  },
  {
   "cell_type": "markdown",
   "metadata": {},
   "source": [
    "#### 1 - Download the data\n",
    "\n",
    "- Navigate to https://trends.google.com/trends/explore?date=2021-05-01%202021-05-31&geo=AU-ACT&q=%2Fm%2F08h9qn\n",
    "\n",
    "- Download the csv file of the trends you want to chart"
   ]
  },
  {
   "cell_type": "markdown",
   "metadata": {},
   "source": [
    "#### 2 - Import Pandas package"
   ]
  },
  {
   "cell_type": "code",
   "execution_count": null,
   "metadata": {},
   "outputs": [],
   "source": [
    "import pandas as pd"
   ]
  },
  {
   "cell_type": "markdown",
   "metadata": {},
   "source": [
    "#### 3 - Read in the data into a pandas DataFrame"
   ]
  },
  {
   "cell_type": "code",
   "execution_count": null,
   "metadata": {},
   "outputs": [],
   "source": [
    "df = pd.read_csv('data/1_trends/officeworks/5-21_aus.csv', header=1, index_col=\"Day\") "
   ]
  },
  {
   "cell_type": "markdown",
   "metadata": {},
   "source": [
    "##### Note:\n",
    "- *We are using a \"read_csv\" method. If your file was excel you'd need to use \"read_excel\"*\n",
    "\n",
    "- *We are using a \"header\" argument. This is tell pandas which row has the headers, notice it is \"1\", not \"2\" - why?\"*\n",
    "\n",
    "- *We are setting an \"index column\" we'll discuss this more when we look at Pandas next week*"
   ]
  },
  {
   "cell_type": "markdown",
   "metadata": {},
   "source": [
    "#### 4 - Review the data"
   ]
  },
  {
   "cell_type": "code",
   "execution_count": null,
   "metadata": {},
   "outputs": [],
   "source": [
    "df.head() # Shows the first 5 rows"
   ]
  },
  {
   "cell_type": "code",
   "execution_count": null,
   "metadata": {},
   "outputs": [],
   "source": [
    "df.plot(figsize=(12,4)) # Plots the data"
   ]
  },
  {
   "cell_type": "code",
   "execution_count": null,
   "metadata": {},
   "outputs": [],
   "source": [
    "df.mean() # Find the average metric"
   ]
  },
  {
   "cell_type": "code",
   "execution_count": null,
   "metadata": {},
   "outputs": [],
   "source": [
    "df[df[\"Officeworks: (Australia)\"]==100] # Find the day of the max metric"
   ]
  },
  {
   "cell_type": "markdown",
   "metadata": {},
   "source": [
    "#### 5 - Read in market data for NSW"
   ]
  },
  {
   "cell_type": "code",
   "execution_count": null,
   "metadata": {},
   "outputs": [],
   "source": [
    "df_nsw = pd.read_csv('data/1_trends/officeworks/5-21_nsw.csv', header=1, index_col=\"Day\") "
   ]
  },
  {
   "cell_type": "code",
   "execution_count": null,
   "metadata": {},
   "outputs": [],
   "source": [
    "df_nsw.plot(figsize=(12,4))"
   ]
  },
  {
   "cell_type": "markdown",
   "metadata": {},
   "source": [
    "#### 6 - Get all market data"
   ]
  },
  {
   "cell_type": "code",
   "execution_count": null,
   "metadata": {},
   "outputs": [],
   "source": [
    "df_vic = pd.read_csv('data/1_trends/officeworks/5-21_vic.csv', header=1, index_col=\"Day\") \n",
    "df_qld = pd.read_csv('data/1_trends/officeworks/5-21_qld.csv', header=1, index_col=\"Day\") \n",
    "\n",
    "df_comb1 = df_nsw.join(df_vic)\n",
    "df_combined = df_comb1.join(df_qld)"
   ]
  },
  {
   "cell_type": "code",
   "execution_count": null,
   "metadata": {},
   "outputs": [],
   "source": [
    "df_combined.plot(figsize=(12,4))"
   ]
  },
  {
   "cell_type": "markdown",
   "metadata": {},
   "source": [
    "#### 7 - How could we do that better?"
   ]
  },
  {
   "cell_type": "code",
   "execution_count": null,
   "metadata": {},
   "outputs": [],
   "source": [
    "# 1) make a list of all the markets\n",
    "markets = [\"nsw\", \"vic\", \"qld\"] \n",
    "\n",
    "# 2) make an empty list for the dataframes\n",
    "dfs = []\n",
    "\n",
    "# 3) loop through all the markets and append its dataframe to the list\n",
    "for market in markets:\n",
    "    csv_path = f\"data/1_trends/officeworks/5-21_{market}.csv\"\n",
    "    dfs.append(pd.read_csv(csv_path, header=1, index_col=\"Day\"))\n",
    "\n",
    "# 4) combine the list of dataframes\n",
    "df_combined = pd.concat(dfs, axis=1)\n",
    "\n",
    "\n",
    "df_combined.plot(figsize=(12,4))"
   ]
  },
  {
   "cell_type": "markdown",
   "metadata": {},
   "source": [
    "#### 8 - Exercise - Create the same chart for \"Johnson & Johnson\"?"
   ]
  },
  {
   "cell_type": "code",
   "execution_count": null,
   "metadata": {},
   "outputs": [],
   "source": []
  },
  {
   "cell_type": "markdown",
   "metadata": {},
   "source": [
    "#### 9 - Exercise - Create the same chart for \"Lotterywest\"?"
   ]
  },
  {
   "cell_type": "code",
   "execution_count": null,
   "metadata": {},
   "outputs": [],
   "source": []
  },
  {
   "cell_type": "markdown",
   "metadata": {},
   "source": [
    "#### 10 - How could our script be more flexible?\n"
   ]
  },
  {
   "cell_type": "code",
   "execution_count": null,
   "metadata": {},
   "outputs": [],
   "source": []
  },
  {
   "cell_type": "markdown",
   "metadata": {},
   "source": [
    "______________"
   ]
  },
  {
   "cell_type": "markdown",
   "metadata": {},
   "source": [
    "### Part 2: Google Trends API"
   ]
  },
  {
   "cell_type": "markdown",
   "metadata": {},
   "source": [
    "#### 1 - Install the pytrends library"
   ]
  },
  {
   "cell_type": "code",
   "execution_count": null,
   "metadata": {},
   "outputs": [],
   "source": [
    "pip install pytrends"
   ]
  },
  {
   "cell_type": "markdown",
   "metadata": {},
   "source": [
    "#### 2 - Follow the instructions to construct a request"
   ]
  },
  {
   "cell_type": "code",
   "execution_count": null,
   "metadata": {},
   "outputs": [],
   "source": [
    "from pytrends.request import TrendReq\n",
    "pytrends = TrendReq(hl='en-AU', tz=600) # create a new pytrends object"
   ]
  },
  {
   "cell_type": "code",
   "execution_count": null,
   "metadata": {},
   "outputs": [],
   "source": [
    "kw_list = [\"Officeworks\"] # build a keyword list\n",
    "pytrends.build_payload(kw_list,timeframe=\"2021-05-01 2021-05-31\", geo=\"AU-VIC\") #build a payload\n",
    "df = pytrends.interest_over_time() # get the data\n",
    "df.head()"
   ]
  },
  {
   "cell_type": "markdown",
   "metadata": {},
   "source": [
    "#### 3 - Format the DataFrame to use original column names"
   ]
  },
  {
   "cell_type": "code",
   "execution_count": null,
   "metadata": {},
   "outputs": [],
   "source": [
    "df.index.name=\"Day\"\n",
    "df.rename(columns={\"Officeworks\":\"Officeworks: (Victoria)\"}, inplace=True)\n",
    "df.drop(\"isPartial\", axis=1, inplace=True)\n",
    "df.head()"
   ]
  },
  {
   "cell_type": "markdown",
   "metadata": {},
   "source": [
    "#### 4 - Exercise build the plots again using pytrends package"
   ]
  },
  {
   "cell_type": "code",
   "execution_count": null,
   "metadata": {},
   "outputs": [],
   "source": [
    "# First define constants\n",
    "\n",
    "client_list = [\"Officeworks\", \"Johnson & Johnson\", \"Lotterywest\"]\n",
    "market_dict = {\n",
    "    \"AU-NSW\": \"New South Wales\",\n",
    "    \"AU-VIC\": \"Victoria\",\n",
    "    \"AU-QLD\": \"Queensland\",\n",
    "}\n",
    "FIG_SIZE = (12, 4)"
   ]
  },
  {
   "cell_type": "code",
   "execution_count": null,
   "metadata": {},
   "outputs": [],
   "source": [
    "# Second define utility functions\n",
    "def format_df(df, keyword, market):\n",
    "    df.index.name=\"Day\"\n",
    "    market_name = market_dict[market]\n",
    "    new_col_name = f\"{keyword}: ({market_name})\"\n",
    "    df.rename(columns={keyword: new_col_name}, inplace=True)\n",
    "    df.drop(\"isPartial\", axis=1, inplace=True)\n",
    "    return df\n",
    "\n",
    "def get_trends_df(client, market, start_date, end_date):\n",
    "    kw_list = [client] \n",
    "    pytrends.build_payload(kw_list,timeframe=f\"{start_date} {end_date}\", geo=market)\n",
    "    df = pytrends.interest_over_time()\n",
    "    return format_df(df, client, market)\n",
    "    \n",
    "    "
   ]
  },
  {
   "cell_type": "code",
   "execution_count": null,
   "metadata": {},
   "outputs": [],
   "source": [
    "# Third define final script\n",
    "def plot_trends(client_list, market_list, start_date, end_date):\n",
    "    for client in client_list:\n",
    "        dfs = []\n",
    "        for market in market_list:\n",
    "            print(f\"Collecting trends for {client} in {market}\")\n",
    "            dfs.append(get_trends_df(client, market, start_date, end_date))\n",
    "        pd.concat(dfs, axis=1).plot(figsize=FIG_SIZE)\n",
    "    \n",
    "\n",
    "    \n",
    "    "
   ]
  },
  {
   "cell_type": "code",
   "execution_count": null,
   "metadata": {},
   "outputs": [],
   "source": [
    "# Run script\n",
    "plot_trends(client_list, market_dict,\"2021-05-01\", \"2021-05-31\" )"
   ]
  }
 ],
 "metadata": {
  "interpreter": {
   "hash": "50cde3325d3c59d1332793460600b59a5cface857faaad336dd65cc5a9f9dbee"
  },
  "kernelspec": {
   "display_name": "Python 3",
   "language": "python",
   "name": "python3"
  },
  "language_info": {
   "codemirror_mode": {
    "name": "ipython",
    "version": 3
   },
   "file_extension": ".py",
   "mimetype": "text/x-python",
   "name": "python",
   "nbconvert_exporter": "python",
   "pygments_lexer": "ipython3",
   "version": "3.7.10"
  }
 },
 "nbformat": 4,
 "nbformat_minor": 2
}
